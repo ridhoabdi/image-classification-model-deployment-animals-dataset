{
  "cells": [
    {
      "cell_type": "markdown",
      "metadata": {
        "id": "GMGv7uRehmar"
      },
      "source": [
        "##**Proyek Akhir :  Image Classification Model Deployment**"
      ]
    },
    {
      "cell_type": "markdown",
      "metadata": {
        "id": "FPH2vSuyhpep"
      },
      "source": [
        "###Nama : Muhammad Ridho Abdillah\n",
        "###Email : ridhoabdi101@gmail.com\n",
        "###Kelas : Dicoding - Belajar Pengembangan Machine Learning"
      ]
    },
    {
      "cell_type": "markdown",
      "metadata": {
        "id": "vUVvo9K3hsSh"
      },
      "source": [
        "###Import Library"
      ]
    },
    {
      "cell_type": "code",
      "execution_count": 69,
      "metadata": {
        "id": "8NhIdY1ohWGe"
      },
      "outputs": [],
      "source": [
        "import tensorflow as tf\n",
        "from tensorflow.keras.preprocessing.image import ImageDataGenerator\n",
        "from tensorflow.keras.optimizers import RMSprop\n",
        "from tensorflow.keras.models import Sequential"
      ]
    },
    {
      "cell_type": "markdown",
      "metadata": {
        "id": "20L309CahwBh"
      },
      "source": [
        "### Download Dataset\n",
        "Dataset yang digunakan dari situs Kaggle yang berjudul Animal Image Dataset. berikut adalah link dataset yang digunakan pada proyek ini: https://www.kaggle.com/datasets/ashishsaxena2209/animal-image-datasetdog-cat-and-panda"
      ]
    },
    {
      "cell_type": "code",
      "execution_count": 70,
      "metadata": {
        "colab": {
          "base_uri": "https://localhost:8080/"
        },
        "id": "fQvWmPQqhyni",
        "outputId": "11708040-549e-42b6-cb33-43768d852d1a"
      },
      "outputs": [
        {
          "output_type": "stream",
          "name": "stdout",
          "text": [
            "Requirement already satisfied: kaggle in /usr/local/lib/python3.10/dist-packages (1.5.16)\n",
            "Requirement already satisfied: six>=1.10 in /usr/local/lib/python3.10/dist-packages (from kaggle) (1.16.0)\n",
            "Requirement already satisfied: certifi in /usr/local/lib/python3.10/dist-packages (from kaggle) (2023.7.22)\n",
            "Requirement already satisfied: python-dateutil in /usr/local/lib/python3.10/dist-packages (from kaggle) (2.8.2)\n",
            "Requirement already satisfied: requests in /usr/local/lib/python3.10/dist-packages (from kaggle) (2.31.0)\n",
            "Requirement already satisfied: tqdm in /usr/local/lib/python3.10/dist-packages (from kaggle) (4.66.1)\n",
            "Requirement already satisfied: python-slugify in /usr/local/lib/python3.10/dist-packages (from kaggle) (8.0.1)\n",
            "Requirement already satisfied: urllib3 in /usr/local/lib/python3.10/dist-packages (from kaggle) (2.0.4)\n",
            "Requirement already satisfied: bleach in /usr/local/lib/python3.10/dist-packages (from kaggle) (6.0.0)\n",
            "Requirement already satisfied: webencodings in /usr/local/lib/python3.10/dist-packages (from bleach->kaggle) (0.5.1)\n",
            "Requirement already satisfied: text-unidecode>=1.3 in /usr/local/lib/python3.10/dist-packages (from python-slugify->kaggle) (1.3)\n",
            "Requirement already satisfied: charset-normalizer<4,>=2 in /usr/local/lib/python3.10/dist-packages (from requests->kaggle) (3.2.0)\n",
            "Requirement already satisfied: idna<4,>=2.5 in /usr/local/lib/python3.10/dist-packages (from requests->kaggle) (3.4)\n"
          ]
        }
      ],
      "source": [
        "!pip install kaggle"
      ]
    },
    {
      "cell_type": "code",
      "execution_count": 71,
      "metadata": {
        "colab": {
          "base_uri": "https://localhost:8080/",
          "height": 90
        },
        "id": "tyvRcFZrh1PR",
        "outputId": "60a556d2-78b3-4124-966b-3c9ea4dd08ba"
      },
      "outputs": [
        {
          "output_type": "display_data",
          "data": {
            "text/plain": [
              "<IPython.core.display.HTML object>"
            ],
            "text/html": [
              "\n",
              "     <input type=\"file\" id=\"files-5c23c121-27c8-4a24-896f-edbc442726ed\" name=\"files[]\" multiple disabled\n",
              "        style=\"border:none\" />\n",
              "     <output id=\"result-5c23c121-27c8-4a24-896f-edbc442726ed\">\n",
              "      Upload widget is only available when the cell has been executed in the\n",
              "      current browser session. Please rerun this cell to enable.\n",
              "      </output>\n",
              "      <script>// Copyright 2017 Google LLC\n",
              "//\n",
              "// Licensed under the Apache License, Version 2.0 (the \"License\");\n",
              "// you may not use this file except in compliance with the License.\n",
              "// You may obtain a copy of the License at\n",
              "//\n",
              "//      http://www.apache.org/licenses/LICENSE-2.0\n",
              "//\n",
              "// Unless required by applicable law or agreed to in writing, software\n",
              "// distributed under the License is distributed on an \"AS IS\" BASIS,\n",
              "// WITHOUT WARRANTIES OR CONDITIONS OF ANY KIND, either express or implied.\n",
              "// See the License for the specific language governing permissions and\n",
              "// limitations under the License.\n",
              "\n",
              "/**\n",
              " * @fileoverview Helpers for google.colab Python module.\n",
              " */\n",
              "(function(scope) {\n",
              "function span(text, styleAttributes = {}) {\n",
              "  const element = document.createElement('span');\n",
              "  element.textContent = text;\n",
              "  for (const key of Object.keys(styleAttributes)) {\n",
              "    element.style[key] = styleAttributes[key];\n",
              "  }\n",
              "  return element;\n",
              "}\n",
              "\n",
              "// Max number of bytes which will be uploaded at a time.\n",
              "const MAX_PAYLOAD_SIZE = 100 * 1024;\n",
              "\n",
              "function _uploadFiles(inputId, outputId) {\n",
              "  const steps = uploadFilesStep(inputId, outputId);\n",
              "  const outputElement = document.getElementById(outputId);\n",
              "  // Cache steps on the outputElement to make it available for the next call\n",
              "  // to uploadFilesContinue from Python.\n",
              "  outputElement.steps = steps;\n",
              "\n",
              "  return _uploadFilesContinue(outputId);\n",
              "}\n",
              "\n",
              "// This is roughly an async generator (not supported in the browser yet),\n",
              "// where there are multiple asynchronous steps and the Python side is going\n",
              "// to poll for completion of each step.\n",
              "// This uses a Promise to block the python side on completion of each step,\n",
              "// then passes the result of the previous step as the input to the next step.\n",
              "function _uploadFilesContinue(outputId) {\n",
              "  const outputElement = document.getElementById(outputId);\n",
              "  const steps = outputElement.steps;\n",
              "\n",
              "  const next = steps.next(outputElement.lastPromiseValue);\n",
              "  return Promise.resolve(next.value.promise).then((value) => {\n",
              "    // Cache the last promise value to make it available to the next\n",
              "    // step of the generator.\n",
              "    outputElement.lastPromiseValue = value;\n",
              "    return next.value.response;\n",
              "  });\n",
              "}\n",
              "\n",
              "/**\n",
              " * Generator function which is called between each async step of the upload\n",
              " * process.\n",
              " * @param {string} inputId Element ID of the input file picker element.\n",
              " * @param {string} outputId Element ID of the output display.\n",
              " * @return {!Iterable<!Object>} Iterable of next steps.\n",
              " */\n",
              "function* uploadFilesStep(inputId, outputId) {\n",
              "  const inputElement = document.getElementById(inputId);\n",
              "  inputElement.disabled = false;\n",
              "\n",
              "  const outputElement = document.getElementById(outputId);\n",
              "  outputElement.innerHTML = '';\n",
              "\n",
              "  const pickedPromise = new Promise((resolve) => {\n",
              "    inputElement.addEventListener('change', (e) => {\n",
              "      resolve(e.target.files);\n",
              "    });\n",
              "  });\n",
              "\n",
              "  const cancel = document.createElement('button');\n",
              "  inputElement.parentElement.appendChild(cancel);\n",
              "  cancel.textContent = 'Cancel upload';\n",
              "  const cancelPromise = new Promise((resolve) => {\n",
              "    cancel.onclick = () => {\n",
              "      resolve(null);\n",
              "    };\n",
              "  });\n",
              "\n",
              "  // Wait for the user to pick the files.\n",
              "  const files = yield {\n",
              "    promise: Promise.race([pickedPromise, cancelPromise]),\n",
              "    response: {\n",
              "      action: 'starting',\n",
              "    }\n",
              "  };\n",
              "\n",
              "  cancel.remove();\n",
              "\n",
              "  // Disable the input element since further picks are not allowed.\n",
              "  inputElement.disabled = true;\n",
              "\n",
              "  if (!files) {\n",
              "    return {\n",
              "      response: {\n",
              "        action: 'complete',\n",
              "      }\n",
              "    };\n",
              "  }\n",
              "\n",
              "  for (const file of files) {\n",
              "    const li = document.createElement('li');\n",
              "    li.append(span(file.name, {fontWeight: 'bold'}));\n",
              "    li.append(span(\n",
              "        `(${file.type || 'n/a'}) - ${file.size} bytes, ` +\n",
              "        `last modified: ${\n",
              "            file.lastModifiedDate ? file.lastModifiedDate.toLocaleDateString() :\n",
              "                                    'n/a'} - `));\n",
              "    const percent = span('0% done');\n",
              "    li.appendChild(percent);\n",
              "\n",
              "    outputElement.appendChild(li);\n",
              "\n",
              "    const fileDataPromise = new Promise((resolve) => {\n",
              "      const reader = new FileReader();\n",
              "      reader.onload = (e) => {\n",
              "        resolve(e.target.result);\n",
              "      };\n",
              "      reader.readAsArrayBuffer(file);\n",
              "    });\n",
              "    // Wait for the data to be ready.\n",
              "    let fileData = yield {\n",
              "      promise: fileDataPromise,\n",
              "      response: {\n",
              "        action: 'continue',\n",
              "      }\n",
              "    };\n",
              "\n",
              "    // Use a chunked sending to avoid message size limits. See b/62115660.\n",
              "    let position = 0;\n",
              "    do {\n",
              "      const length = Math.min(fileData.byteLength - position, MAX_PAYLOAD_SIZE);\n",
              "      const chunk = new Uint8Array(fileData, position, length);\n",
              "      position += length;\n",
              "\n",
              "      const base64 = btoa(String.fromCharCode.apply(null, chunk));\n",
              "      yield {\n",
              "        response: {\n",
              "          action: 'append',\n",
              "          file: file.name,\n",
              "          data: base64,\n",
              "        },\n",
              "      };\n",
              "\n",
              "      let percentDone = fileData.byteLength === 0 ?\n",
              "          100 :\n",
              "          Math.round((position / fileData.byteLength) * 100);\n",
              "      percent.textContent = `${percentDone}% done`;\n",
              "\n",
              "    } while (position < fileData.byteLength);\n",
              "  }\n",
              "\n",
              "  // All done.\n",
              "  yield {\n",
              "    response: {\n",
              "      action: 'complete',\n",
              "    }\n",
              "  };\n",
              "}\n",
              "\n",
              "scope.google = scope.google || {};\n",
              "scope.google.colab = scope.google.colab || {};\n",
              "scope.google.colab._files = {\n",
              "  _uploadFiles,\n",
              "  _uploadFilesContinue,\n",
              "};\n",
              "})(self);\n",
              "</script> "
            ]
          },
          "metadata": {}
        },
        {
          "output_type": "stream",
          "name": "stdout",
          "text": [
            "Saving kaggle.json to kaggle.json\n"
          ]
        },
        {
          "output_type": "execute_result",
          "data": {
            "text/plain": [
              "{'kaggle.json': b'{\"username\":\"muhammadridho18\",\"key\":\"4a7340d74e24d64c3ef6477b4332b07d\"}'}"
            ]
          },
          "metadata": {},
          "execution_count": 71
        }
      ],
      "source": [
        "from google.colab import files\n",
        "files.upload()"
      ]
    },
    {
      "cell_type": "code",
      "execution_count": 72,
      "metadata": {
        "id": "TOHZe8B1h5qh",
        "colab": {
          "base_uri": "https://localhost:8080/"
        },
        "outputId": "436f77f1-0d3c-47b1-ffc8-8b44c7d74ec3"
      },
      "outputs": [
        {
          "output_type": "stream",
          "name": "stdout",
          "text": [
            "mkdir: cannot create directory ‘/root/.kaggle’: File exists\n"
          ]
        }
      ],
      "source": [
        "!mkdir ~/.kaggle\n",
        "!cp kaggle.json ~/.kaggle/\n",
        "!chmod 600 ~/.kaggle/kaggle.json"
      ]
    },
    {
      "cell_type": "code",
      "execution_count": 73,
      "metadata": {
        "colab": {
          "base_uri": "https://localhost:8080/"
        },
        "id": "abpngEFuh8a5",
        "outputId": "4ffa2038-5349-48ae-ee25-916d702d21a4"
      },
      "outputs": [
        {
          "output_type": "stream",
          "name": "stdout",
          "text": [
            "Downloading animal-image-datasetdog-cat-and-panda.zip to /content\n",
            "100% 374M/376M [00:17<00:00, 24.1MB/s]\n",
            "100% 376M/376M [00:17<00:00, 22.2MB/s]\n"
          ]
        }
      ],
      "source": [
        "!kaggle datasets download -d ashishsaxena2209/animal-image-datasetdog-cat-and-panda"
      ]
    },
    {
      "cell_type": "code",
      "execution_count": 74,
      "metadata": {
        "id": "12n4zA9piVKS"
      },
      "outputs": [],
      "source": [
        "import zipfile,os\n",
        "local_zip = 'animal-image-datasetdog-cat-and-panda.zip'\n",
        "zip_ref = zipfile.ZipFile(local_zip, 'r')\n",
        "zip_ref.extractall('tmp')\n",
        "zip_ref.close()"
      ]
    },
    {
      "cell_type": "markdown",
      "metadata": {
        "id": "pmSvwb8riVrZ"
      },
      "source": [
        "###Split Dataset (Training 80% dan Validation 20%)"
      ]
    },
    {
      "cell_type": "code",
      "execution_count": 75,
      "metadata": {
        "colab": {
          "base_uri": "https://localhost:8080/"
        },
        "id": "vU3Zjte3iZjE",
        "outputId": "3d75fbc0-8952-40fc-cdfe-9bda808d202f"
      },
      "outputs": [
        {
          "output_type": "stream",
          "name": "stdout",
          "text": [
            "Requirement already satisfied: split_folders in /usr/local/lib/python3.10/dist-packages (0.5.1)\n"
          ]
        }
      ],
      "source": [
        "!pip install split_folders"
      ]
    },
    {
      "cell_type": "code",
      "execution_count": 76,
      "metadata": {
        "colab": {
          "base_uri": "https://localhost:8080/"
        },
        "id": "jLkpCi2Aizqk",
        "outputId": "2d99e250-727a-447a-80a2-cba7b2b96a61"
      },
      "outputs": [
        {
          "output_type": "stream",
          "name": "stderr",
          "text": [
            "Copying files: 3000 files [00:00, 3958.68 files/s]\n"
          ]
        }
      ],
      "source": [
        "import splitfolders\n",
        "splitfolders.ratio('tmp/animals/animals', output=\"tmp/animals/data\", seed=1337, ratio=(.8, .2))"
      ]
    },
    {
      "cell_type": "markdown",
      "metadata": {
        "id": "D66T93yai39k"
      },
      "source": [
        "###Membuat Direktori Data Training dan Data Validation"
      ]
    },
    {
      "cell_type": "code",
      "execution_count": 77,
      "metadata": {
        "colab": {
          "base_uri": "https://localhost:8080/"
        },
        "id": "-twmDHA2i4qe",
        "outputId": "d9dd18dd-8ecc-4bef-99d7-bab7d5a7cf80"
      },
      "outputs": [
        {
          "output_type": "execute_result",
          "data": {
            "text/plain": [
              "['cats', 'panda', 'dogs']"
            ]
          },
          "metadata": {},
          "execution_count": 77
        }
      ],
      "source": [
        "base_dir = 'tmp/animals/data'\n",
        "train_dir = os.path.join(base_dir, 'train')\n",
        "validation_dir = os.path.join(base_dir, 'val')\n",
        "os.listdir('tmp/animals/data/train')\n",
        "os.listdir('tmp/animals/data/val')"
      ]
    },
    {
      "cell_type": "code",
      "execution_count": 78,
      "metadata": {
        "id": "5MDMtNNBi7lb"
      },
      "outputs": [],
      "source": [
        "train_dogs_dir = os.path.join(train_dir, 'dogs')\n",
        "train_cats_dir = os.path.join(train_dir, 'cats')\n",
        "train_panda_dir = os.path.join(train_dir, 'panda')\n",
        "\n",
        "validation_dogs_dir = os.path.join(validation_dir, 'dogs')\n",
        "validation_cats_dir = os.path.join(validation_dir, 'cats')\n",
        "validation_panda_dir = os.path.join(validation_dir, 'panda')"
      ]
    },
    {
      "cell_type": "markdown",
      "metadata": {
        "id": "Yk4tfSrEi-AM"
      },
      "source": [
        "###Proses Augmentasi Gambar dengan ImageDataGenerator"
      ]
    },
    {
      "cell_type": "code",
      "execution_count": 79,
      "metadata": {
        "id": "OMd9Xm6Ci_9k"
      },
      "outputs": [],
      "source": [
        "train_datagen = ImageDataGenerator(\n",
        "    rescale=1./255,\n",
        "    shear_range=0.2,\n",
        "    zoom_range=0.2,\n",
        "    horizontal_flip=True)\n",
        "\n",
        "test_datagen = ImageDataGenerator(\n",
        "    rescale=1./255,\n",
        "    shear_range=0.2,\n",
        "    zoom_range=0.2,\n",
        "    horizontal_flip=True)"
      ]
    },
    {
      "cell_type": "code",
      "execution_count": 80,
      "metadata": {
        "colab": {
          "base_uri": "https://localhost:8080/"
        },
        "id": "8XXMiXMAjCrW",
        "outputId": "9794b71b-8cd9-4a12-eb20-51ef61e72169"
      },
      "outputs": [
        {
          "output_type": "stream",
          "name": "stdout",
          "text": [
            "Found 2400 images belonging to 3 classes.\n",
            "Found 600 images belonging to 3 classes.\n"
          ]
        }
      ],
      "source": [
        "train_generator = train_datagen.flow_from_directory(\n",
        "    train_dir,\n",
        "    target_size=(150, 150),\n",
        "    batch_size=32,\n",
        "    color_mode='rgb',\n",
        "    class_mode='categorical',\n",
        "    shuffle = True,\n",
        "    seed=42)\n",
        "\n",
        "validation_generator = test_datagen.flow_from_directory(\n",
        "    validation_dir,\n",
        "    target_size=(150, 150),\n",
        "    batch_size=32,\n",
        "    color_mode='rgb',\n",
        "    class_mode='categorical',\n",
        "    shuffle = True,\n",
        "    seed=42)"
      ]
    },
    {
      "cell_type": "markdown",
      "metadata": {
        "id": "fa6ZDVALjGC9"
      },
      "source": [
        "###Implementasi Callback"
      ]
    },
    {
      "cell_type": "code",
      "execution_count": 81,
      "metadata": {
        "id": "wgc6OzADjG8E"
      },
      "outputs": [],
      "source": [
        "class myCallback(tf.keras.callbacks.Callback):\n",
        "  def on_epoch_end(self, epoch, logs={}):\n",
        "    if(logs.get('accuracy') > 0.80 and logs.get('val_accuracy') > 0.80):\n",
        "      print(\"\\nAkurasi sudah lebih dari 80%, stop training!\")\n",
        "      self.model.stop_training = True\n",
        "\n",
        "callbacks = myCallback()"
      ]
    },
    {
      "cell_type": "markdown",
      "metadata": {
        "id": "z-old3EejJW9"
      },
      "source": [
        "###Melatih Model"
      ]
    },
    {
      "cell_type": "code",
      "execution_count": 82,
      "metadata": {
        "id": "Z0AGbQ6-jLae"
      },
      "outputs": [],
      "source": [
        "model = tf.keras.models.Sequential([\n",
        "    tf.keras.layers.Conv2D(32, (3,3), activation='relu', input_shape=(150, 150, 3)),\n",
        "    tf.keras.layers.MaxPooling2D(2, 2),\n",
        "    tf.keras.layers.Conv2D(64, (3,3), activation='relu'),\n",
        "    tf.keras.layers.MaxPooling2D(2,2),\n",
        "    tf.keras.layers.Conv2D(128, (3,3), activation='relu'),\n",
        "    tf.keras.layers.MaxPooling2D(2,2),\n",
        "    tf.keras.layers.Conv2D(128, (3,3), activation='relu'),\n",
        "    tf.keras.layers.MaxPooling2D(2,2),\n",
        "    tf.keras.layers.Flatten(),\n",
        "    tf.keras.layers.Dense(512, activation='relu'),\n",
        "    tf.keras.layers.Dense(3, activation='softmax')\n",
        "])"
      ]
    },
    {
      "cell_type": "code",
      "execution_count": 83,
      "metadata": {
        "colab": {
          "base_uri": "https://localhost:8080/"
        },
        "id": "WQYARWusjO-E",
        "outputId": "453fbe8a-68b5-4859-e4b1-3a89cded4c4d"
      },
      "outputs": [
        {
          "output_type": "stream",
          "name": "stdout",
          "text": [
            "Model: \"sequential_4\"\n",
            "_________________________________________________________________\n",
            " Layer (type)                Output Shape              Param #   \n",
            "=================================================================\n",
            " conv2d_16 (Conv2D)          (None, 148, 148, 32)      896       \n",
            "                                                                 \n",
            " max_pooling2d_16 (MaxPooli  (None, 74, 74, 32)        0         \n",
            " ng2D)                                                           \n",
            "                                                                 \n",
            " conv2d_17 (Conv2D)          (None, 72, 72, 64)        18496     \n",
            "                                                                 \n",
            " max_pooling2d_17 (MaxPooli  (None, 36, 36, 64)        0         \n",
            " ng2D)                                                           \n",
            "                                                                 \n",
            " conv2d_18 (Conv2D)          (None, 34, 34, 128)       73856     \n",
            "                                                                 \n",
            " max_pooling2d_18 (MaxPooli  (None, 17, 17, 128)       0         \n",
            " ng2D)                                                           \n",
            "                                                                 \n",
            " conv2d_19 (Conv2D)          (None, 15, 15, 128)       147584    \n",
            "                                                                 \n",
            " max_pooling2d_19 (MaxPooli  (None, 7, 7, 128)         0         \n",
            " ng2D)                                                           \n",
            "                                                                 \n",
            " flatten_4 (Flatten)         (None, 6272)              0         \n",
            "                                                                 \n",
            " dense_8 (Dense)             (None, 512)               3211776   \n",
            "                                                                 \n",
            " dense_9 (Dense)             (None, 3)                 1539      \n",
            "                                                                 \n",
            "=================================================================\n",
            "Total params: 3454147 (13.18 MB)\n",
            "Trainable params: 3454147 (13.18 MB)\n",
            "Non-trainable params: 0 (0.00 Byte)\n",
            "_________________________________________________________________\n"
          ]
        }
      ],
      "source": [
        "model.summary()"
      ]
    },
    {
      "cell_type": "code",
      "execution_count": 84,
      "metadata": {
        "id": "e-bPMapYjRxA"
      },
      "outputs": [],
      "source": [
        "model.compile(loss='categorical_crossentropy',\n",
        "              optimizer=tf.optimizers.Adam(),\n",
        "              metrics=['accuracy'])"
      ]
    },
    {
      "cell_type": "code",
      "execution_count": 85,
      "metadata": {
        "colab": {
          "base_uri": "https://localhost:8080/"
        },
        "id": "hcSr-tDZjUHQ",
        "outputId": "e539358e-437c-4d74-8651-94d917cc778b"
      },
      "outputs": [
        {
          "output_type": "stream",
          "name": "stdout",
          "text": [
            "Epoch 1/100\n",
            "75/75 - 39s - loss: 0.8951 - accuracy: 0.5188 - val_loss: 0.7817 - val_accuracy: 0.6350 - 39s/epoch - 521ms/step\n",
            "Epoch 2/100\n",
            "75/75 - 21s - loss: 0.7328 - accuracy: 0.6229 - val_loss: 0.6651 - val_accuracy: 0.6767 - 21s/epoch - 276ms/step\n",
            "Epoch 3/100\n",
            "75/75 - 22s - loss: 0.6804 - accuracy: 0.6475 - val_loss: 0.6191 - val_accuracy: 0.6667 - 22s/epoch - 292ms/step\n",
            "Epoch 4/100\n",
            "75/75 - 22s - loss: 0.6239 - accuracy: 0.6804 - val_loss: 0.7237 - val_accuracy: 0.6817 - 22s/epoch - 292ms/step\n",
            "Epoch 5/100\n",
            "75/75 - 22s - loss: 0.6019 - accuracy: 0.7179 - val_loss: 0.5811 - val_accuracy: 0.7233 - 22s/epoch - 293ms/step\n",
            "Epoch 6/100\n",
            "75/75 - 23s - loss: 0.5797 - accuracy: 0.7125 - val_loss: 0.5744 - val_accuracy: 0.7033 - 23s/epoch - 304ms/step\n",
            "Epoch 7/100\n",
            "75/75 - 22s - loss: 0.5556 - accuracy: 0.7421 - val_loss: 0.5547 - val_accuracy: 0.7450 - 22s/epoch - 295ms/step\n",
            "Epoch 8/100\n",
            "75/75 - 21s - loss: 0.5366 - accuracy: 0.7567 - val_loss: 0.5415 - val_accuracy: 0.7617 - 21s/epoch - 283ms/step\n",
            "Epoch 9/100\n",
            "75/75 - 22s - loss: 0.5091 - accuracy: 0.7629 - val_loss: 0.5576 - val_accuracy: 0.7533 - 22s/epoch - 298ms/step\n",
            "Epoch 10/100\n",
            "75/75 - 22s - loss: 0.4905 - accuracy: 0.7692 - val_loss: 0.5683 - val_accuracy: 0.7350 - 22s/epoch - 290ms/step\n",
            "Epoch 11/100\n",
            "75/75 - 22s - loss: 0.4786 - accuracy: 0.7837 - val_loss: 0.5359 - val_accuracy: 0.7617 - 22s/epoch - 299ms/step\n",
            "Epoch 12/100\n",
            "75/75 - 22s - loss: 0.4320 - accuracy: 0.8033 - val_loss: 0.5102 - val_accuracy: 0.7717 - 22s/epoch - 299ms/step\n",
            "Epoch 13/100\n",
            "75/75 - 22s - loss: 0.4061 - accuracy: 0.8175 - val_loss: 0.5069 - val_accuracy: 0.7800 - 22s/epoch - 287ms/step\n",
            "Epoch 14/100\n",
            "75/75 - 22s - loss: 0.3820 - accuracy: 0.8292 - val_loss: 0.5744 - val_accuracy: 0.7717 - 22s/epoch - 296ms/step\n",
            "Epoch 15/100\n",
            "75/75 - 22s - loss: 0.3790 - accuracy: 0.8271 - val_loss: 0.5447 - val_accuracy: 0.7800 - 22s/epoch - 296ms/step\n",
            "Epoch 16/100\n",
            "75/75 - 22s - loss: 0.3768 - accuracy: 0.8363 - val_loss: 0.5435 - val_accuracy: 0.7733 - 22s/epoch - 294ms/step\n",
            "Epoch 17/100\n",
            "75/75 - 21s - loss: 0.3213 - accuracy: 0.8617 - val_loss: 0.5661 - val_accuracy: 0.7717 - 21s/epoch - 276ms/step\n",
            "Epoch 18/100\n",
            "75/75 - 22s - loss: 0.3114 - accuracy: 0.8642 - val_loss: 0.5577 - val_accuracy: 0.7817 - 22s/epoch - 298ms/step\n",
            "Epoch 19/100\n",
            "75/75 - 22s - loss: 0.2788 - accuracy: 0.8825 - val_loss: 0.5466 - val_accuracy: 0.7983 - 22s/epoch - 295ms/step\n",
            "Epoch 20/100\n",
            "75/75 - 22s - loss: 0.2849 - accuracy: 0.8871 - val_loss: 0.6180 - val_accuracy: 0.7483 - 22s/epoch - 295ms/step\n",
            "Epoch 21/100\n",
            "75/75 - 21s - loss: 0.2837 - accuracy: 0.8871 - val_loss: 0.5819 - val_accuracy: 0.7600 - 21s/epoch - 278ms/step\n",
            "Epoch 22/100\n",
            "75/75 - 22s - loss: 0.2127 - accuracy: 0.9150 - val_loss: 0.6515 - val_accuracy: 0.7750 - 22s/epoch - 297ms/step\n",
            "Epoch 23/100\n",
            "75/75 - 21s - loss: 0.2186 - accuracy: 0.9046 - val_loss: 0.6396 - val_accuracy: 0.7850 - 21s/epoch - 274ms/step\n",
            "Epoch 24/100\n",
            "75/75 - 22s - loss: 0.1741 - accuracy: 0.9304 - val_loss: 0.6419 - val_accuracy: 0.7783 - 22s/epoch - 295ms/step\n",
            "Epoch 25/100\n",
            "75/75 - 21s - loss: 0.1827 - accuracy: 0.9254 - val_loss: 0.7317 - val_accuracy: 0.7517 - 21s/epoch - 284ms/step\n",
            "Epoch 26/100\n",
            "75/75 - 22s - loss: 0.2024 - accuracy: 0.9204 - val_loss: 0.6766 - val_accuracy: 0.7717 - 22s/epoch - 292ms/step\n",
            "Epoch 27/100\n",
            "75/75 - 22s - loss: 0.1587 - accuracy: 0.9333 - val_loss: 0.6694 - val_accuracy: 0.7983 - 22s/epoch - 297ms/step\n",
            "Epoch 28/100\n",
            "75/75 - 21s - loss: 0.1332 - accuracy: 0.9488 - val_loss: 0.8722 - val_accuracy: 0.7717 - 21s/epoch - 283ms/step\n",
            "Epoch 29/100\n",
            "75/75 - 22s - loss: 0.1547 - accuracy: 0.9429 - val_loss: 0.7004 - val_accuracy: 0.7633 - 22s/epoch - 300ms/step\n",
            "Epoch 30/100\n",
            "\n",
            "Akurasi sudah lebih dari 80%, stop training!\n",
            "75/75 - 21s - loss: 0.1448 - accuracy: 0.9454 - val_loss: 0.7283 - val_accuracy: 0.8033 - 21s/epoch - 278ms/step\n"
          ]
        }
      ],
      "source": [
        "history = model.fit(\n",
        "    train_generator,\n",
        "    epochs = 100,\n",
        "    validation_data = validation_generator,\n",
        "    verbose =2,\n",
        "    callbacks=[callbacks])"
      ]
    },
    {
      "cell_type": "markdown",
      "metadata": {
        "id": "I6EV3Tg_vizi"
      },
      "source": [
        "###Membuat plot akurasi dan loss model"
      ]
    },
    {
      "cell_type": "code",
      "execution_count": 86,
      "metadata": {
        "id": "7kwWWV8tvnTK",
        "colab": {
          "base_uri": "https://localhost:8080/",
          "height": 927
        },
        "outputId": "7ac38189-8fe3-4ed4-f59a-0af6b861ce44"
      },
      "outputs": [
        {
          "output_type": "display_data",
          "data": {
            "text/plain": [
              "<Figure size 640x480 with 1 Axes>"
            ],
            "image/png": "[encoded data removed]"
          },
          "metadata": {}
        },
        {
          "output_type": "display_data",
          "data": {
            "text/plain": [
              "<Figure size 640x480 with 1 Axes>"
            ],
            "image/png": "[encoded data removed]"
          },
          "metadata": {}
        }
      ],
      "source": [
        "from matplotlib import pyplot as plt\n",
        "\n",
        "plt.plot(history.history['accuracy'], label='Training')\n",
        "plt.plot(history.history['val_accuracy'], label='Validation')\n",
        "plt.title('Model Accuracy')\n",
        "plt.ylabel('Value')\n",
        "plt.xlabel('Epoch')\n",
        "plt.legend(loc=\"lower right\")\n",
        "plt.show()\n",
        "\n",
        "plt.plot(history.history['loss'], label='Training')\n",
        "plt.plot(history.history['val_loss'], label='Validation')\n",
        "plt.title('Model Loss')\n",
        "plt.ylabel('Value')\n",
        "plt.xlabel('Epoch')\n",
        "plt.legend(loc=\"upper right\")\n",
        "plt.show()"
      ]
    },
    {
      "cell_type": "markdown",
      "metadata": {
        "id": "VBzyWzRMwTgJ"
      },
      "source": [
        "###Menyimpan model ke dalam format TF-Lite"
      ]
    },
    {
      "cell_type": "code",
      "execution_count": 87,
      "metadata": {
        "id": "5q8D4TQUwVfT"
      },
      "outputs": [],
      "source": [
        "converter = tf.lite.TFLiteConverter.from_keras_model(model)\n",
        "tflite_model = converter.convert()"
      ]
    },
    {
      "cell_type": "code",
      "execution_count": 88,
      "metadata": {
        "id": "f9cTW2vnwskh"
      },
      "outputs": [],
      "source": [
        "with tf.io.gfile.GFile('animal_model.tflite', 'wb') as f:\n",
        "    f.write(tflite_model)"
      ]
    }
  ],
  "metadata": {
    "accelerator": "GPU",
    "colab": {
      "provenance": []
    },
    "kernelspec": {
      "display_name": "Python 3",
      "name": "python3"
    },
    "language_info": {
      "name": "python"
    }
  },
  "nbformat": 4,
  "nbformat_minor": 0
}